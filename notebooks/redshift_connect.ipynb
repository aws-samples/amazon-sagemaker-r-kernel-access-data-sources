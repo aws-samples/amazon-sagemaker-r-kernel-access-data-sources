{
 "cells": [
  {
   "cell_type": "markdown",
   "metadata": {},
   "source": [
    "### The Lifecycle Configuration Script downloads the jar file to the jdbc directory under home directory (~)"
   ]
  },
  {
   "cell_type": "code",
   "execution_count": null,
   "metadata": {},
   "outputs": [],
   "source": [
    "jar_dir <- \"~/jdbc\"\n",
    "jar_file <- list.files(jar_dir, pattern = \"Redshift\")\n",
    "jar_dir_file <- file.path(jar_dir,jar_file)"
   ]
  },
  {
   "cell_type": "markdown",
   "metadata": {},
   "source": [
    "### Replace the rs_ep_port Address with the value of *RedshiftClusterEndpointWithPort* in the CloudFormation Outputs\n",
    "\n",
    "* For example:-\n",
    " * *rs_ep_port <- \"blog-sagemaker-r-redshift-cluster.XXXXXXXXXXXX.us-west-2.redshift.amazonaws.com:5439\"*"
   ]
  },
  {
   "cell_type": "code",
   "execution_count": null,
   "metadata": {},
   "outputs": [],
   "source": [
    "rs_ep_port <- \"<value of RedshiftClusterEndpointWithPort in the CloudFormation Outputs>\""
   ]
  },
  {
   "cell_type": "markdown",
   "metadata": {},
   "source": [
    "### Replace the rs_db with the value of *RedshiftClusterDBName* in the Cloudformation Outputs.\n",
    "#### Replace rs_user and rs_password with the *Secret Value* of *Secret Key* username and password in the AWS Secrets Manager Secret as denoted by *RedshiftClusterSecret* in the CloudFormation Outputs\n",
    "\n",
    "* For example:-\n",
    " * *rs_db <- \"redshiftdb\"*\n",
    " * *rs_user <- \"redshiftmasteruser\"*\n",
    " * *rs_password <- \"XXXX\"*"
   ]
  },
  {
   "cell_type": "code",
   "execution_count": null,
   "metadata": {},
   "outputs": [],
   "source": [
    "rs_db <- \"<value of RedshiftClusterDBName in the Cloudformation Outputs>\"\n",
    "rs_user <- \"<Secret Value of Secret Key 'username' of the AWS Secrets Manager Secret as denoted by RedshiftClusterSecret in the CloudFormation Outputs>\"\n",
    "rs_password <- \"<Secret Value of Secret Key 'password' of the AWS Secrets Manager Secret as denoted by RedshiftClusterSecret in the CloudFormation Outputs>\"\n"
   ]
  },
  {
   "cell_type": "code",
   "execution_count": null,
   "metadata": {},
   "outputs": [],
   "source": [
    "jdbc_string <- paste(\"jdbc:redshift://\",rs_ep_port,\"/\",rs_db,sep=\"\")"
   ]
  },
  {
   "cell_type": "code",
   "execution_count": null,
   "metadata": {},
   "outputs": [],
   "source": [
    "library(DBI)\n",
    "library(rJava)\n",
    "library(RJDBC)\n",
    "options( java.parameters = \"-Xmx8g\" )\n",
    "drv <- JDBC(\"com.amazon.redshift.jdbc42.Driver\",jar_dir_file,identifier.quote=\"`\")\n",
    "conn <- dbConnect(drv, jdbc_string,rs_user,rs_password)"
   ]
  },
  {
   "cell_type": "code",
   "execution_count": null,
   "metadata": {},
   "outputs": [],
   "source": [
    "show_databases <- dbGetQuery(conn, \"SELECT * FROM pg_database;\")\n",
    "show_databases"
   ]
  },
  {
   "cell_type": "code",
   "execution_count": null,
   "metadata": {},
   "outputs": [],
   "source": [
    "dbListTables(conn)"
   ]
  },
  {
   "cell_type": "code",
   "execution_count": null,
   "metadata": {},
   "outputs": [],
   "source": [
    "fetch <- dbGetQuery(conn,\"select * from public.students;\")"
   ]
  },
  {
   "cell_type": "code",
   "execution_count": null,
   "metadata": {},
   "outputs": [],
   "source": [
    "fetch"
   ]
  }
 ],
 "metadata": {
  "kernelspec": {
   "display_name": "R",
   "language": "R",
   "name": "ir"
  },
  "language_info": {
   "codemirror_mode": "r",
   "file_extension": ".r",
   "mimetype": "text/x-r-source",
   "name": "R",
   "pygments_lexer": "r",
   "version": "3.6.1"
  }
 },
 "nbformat": 4,
 "nbformat_minor": 4
}
