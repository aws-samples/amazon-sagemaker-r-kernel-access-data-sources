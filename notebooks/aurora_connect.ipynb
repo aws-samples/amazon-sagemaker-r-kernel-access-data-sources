{
 "cells": [
  {
   "cell_type": "markdown",
   "metadata": {},
   "source": [
    "### The Lifecycle Configuration Script downloads the jar file to the jdbc directory under home directory (~)"
   ]
  },
  {
   "cell_type": "code",
   "execution_count": null,
   "metadata": {},
   "outputs": [],
   "source": [
    "jar_dir <- \"~/SageMaker/jdbc\"\n",
    "jar_file <- list.files(jar_dir, pattern = \"mariadb\")\n",
    "jar_dir_file <- file.path(jar_dir,jar_file)\n",
    "libjvm_path <- system(\"find /usr/lib/jvm/ -name libjvm.so\", intern=TRUE)\n",
    "libjvm_path\n",
    "dyn.load(libjvm_path)\n",
    "\n",
    "options( java.parameters = \"-Xmx8g\" )"
   ]
  },
  {
   "cell_type": "markdown",
   "metadata": {},
   "source": [
    "### Replace the ar_ep_port Address with the value of *AuroraClusterEndpointWithPort* in the CloudFormation Outputs\n",
    "\n",
    "* For example:-\n",
    " * *ar_ep_port <- \"blog-sagemaker-r-auroradb-cluster.cluster-XXXXXXXXXXXX.us-west-2.rds.amazonaws.com:3306\"*"
   ]
  },
  {
   "cell_type": "code",
   "execution_count": null,
   "metadata": {},
   "outputs": [],
   "source": [
    "ar_ep_port <- \"<value of AuroraClusterEndpointWithPort in the CloudFormation Outputs>\""
   ]
  },
  {
   "cell_type": "markdown",
   "metadata": {},
   "source": [
    "### Replace the ar_db with the value of *AuroraClusterDBName* in the Cloudformation Outputs.\n",
    "#### Replace ar_user and ar_password with the *Secret Value* of *Secret Key* username and password in the AWS Secrets Manager Secret as denoted by *AuroraClusterSecret* in the CloudFormation Outputs\n",
    "\n",
    "* For example:-\n",
    " * *ar_db <- \"auroradb\"*\n",
    " * *ar_user <- \"auroramasteruser\"*\n",
    " * *ar_password <- \"XXXX\"*"
   ]
  },
  {
   "cell_type": "code",
   "execution_count": null,
   "metadata": {},
   "outputs": [],
   "source": [
    "ar_db <- \"<value of AuroraClusterDBName in the Cloudformation Outputs>\"\n",
    "ar_user <- \"<Secret Value of Secret Key 'username' of the AWS Secrets Manager Secret as denoted by AuroraClusterSecret in the CloudFormation Outputs>\"\n",
    "ar_password <- \"<Secret Value of Secret Key 'password' of the AWS Secrets Manager Secret as denoted by AuroraClusterSecret in the CloudFormation Outputs>\"\n"
   ]
  },
  {
   "cell_type": "code",
   "execution_count": null,
   "metadata": {},
   "outputs": [],
   "source": [
    "jdbc_string <- paste(\"jdbc:mariadb:aurora//\",ar_ep_port,\"/\",ar_db,sep=\"\")\n",
    "jdbc_string"
   ]
  },
  {
   "cell_type": "code",
   "execution_count": null,
   "metadata": {},
   "outputs": [],
   "source": [
    "library(DBI)\n",
    "library(rJava)\n",
    "library(RJDBC)\n",
    "options( java.parameters = \"-Xmx8g\" )\n",
    "drv <- JDBC(\"org.mariadb.jdbc.Driver\",jar_dir_file,identifier.quote=\"`\")\n",
    "conn <- dbConnect(drv, jdbc_string,ar_user,ar_password)"
   ]
  },
  {
   "cell_type": "code",
   "execution_count": null,
   "metadata": {},
   "outputs": [],
   "source": [
    "show_databases <- dbGetQuery(conn, \"show databases;\")\n",
    "show_databases"
   ]
  },
  {
   "cell_type": "markdown",
   "metadata": {},
   "source": [
    "### Create a test table *students* in the the auroradb."
   ]
  },
  {
   "cell_type": "code",
   "execution_count": null,
   "metadata": {},
   "outputs": [],
   "source": [
    "res <- dbSendQuery(conn, \"CREATE TABLE IF NOT EXISTS auroradb.students (name VARCHAR(64), age INT, gpa DECIMAL(3, 2));\")\n",
    "dbFetch(res)\n",
    "dbClearResult(res)"
   ]
  },
  {
   "cell_type": "markdown",
   "metadata": {},
   "source": [
    "### Insert couple of records in test table *students* in the the auroradb."
   ]
  },
  {
   "cell_type": "code",
   "execution_count": null,
   "metadata": {},
   "outputs": [],
   "source": [
    "res <- dbSendQuery(conn, \"INSERT INTO auroradb.students VALUES ('fred flintstone', 35, 1.28), ('barney rubble', 32, 2.32);\")\n",
    "dbFetch(res)\n",
    "dbClearResult(res)"
   ]
  },
  {
   "cell_type": "code",
   "execution_count": null,
   "metadata": {},
   "outputs": [],
   "source": [
    "fetch=dbGetQuery(conn,\"select * from auroradb.students;\")\n",
    "fetch"
   ]
  }
 ],
 "metadata": {
  "kernelspec": {
   "display_name": "R",
   "language": "R",
   "name": "ir"
  },
  "language_info": {
   "codemirror_mode": "r",
   "file_extension": ".r",
   "mimetype": "text/x-r-source",
   "name": "R",
   "pygments_lexer": "r",
   "version": "4.2.2"
  }
 },
 "nbformat": 4,
 "nbformat_minor": 5
}
