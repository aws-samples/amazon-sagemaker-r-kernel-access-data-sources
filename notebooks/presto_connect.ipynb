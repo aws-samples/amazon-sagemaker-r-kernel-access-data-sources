{
 "cells": [
  {
   "cell_type": "markdown",
   "metadata": {},
   "source": [
    "### The Lifecycle Configuration Script downloads the jar file to the jdbc directory under home directory (~)"
   ]
  },
  {
   "cell_type": "code",
   "execution_count": null,
   "metadata": {},
   "outputs": [],
   "source": [
    "jar_dir <- \"~/jdbc\"\n",
    "jar_file <- list.files(jar_dir, pattern = \"presto\")\n",
    "jar_dir_file <- file.path(jar_dir,jar_file)"
   ]
  },
  {
   "cell_type": "markdown",
   "metadata": {},
   "source": [
    "### Replace the EMR DNS Address with the value of *EMRClusterDNSAddress* in the CloudFormation Outputs\n",
    "\n",
    "* For example:-\n",
    " * *emr_dns <- \"ip-XX-XX-XX-XX.us-west-2.compute.internal\"*"
   ]
  },
  {
   "cell_type": "code",
   "execution_count": null,
   "metadata": {},
   "outputs": [],
   "source": [
    "emr_dns <- \"<value of EMRClusterDNSAddress in the CloudFormation Outputs>\""
   ]
  },
  {
   "cell_type": "code",
   "execution_count": null,
   "metadata": {},
   "outputs": [],
   "source": [
    "jdbc_string <- paste(\"jdbc:presto://\",emr_dns,\":8889/hive/default\",sep=\"\")"
   ]
  },
  {
   "cell_type": "code",
   "execution_count": null,
   "metadata": {},
   "outputs": [],
   "source": [
    "library(DBI)\n",
    "library(rJava)\n",
    "library(RJDBC)\n",
    "options( java.parameters = \"-Xmx8g\" )\n",
    "drv <- JDBC(\"com.facebook.presto.jdbc.PrestoDriver\",jar_dir_file,identifier.quote=\"`\")\n",
    "conn <- dbConnect(drv, jdbc_string,\"hadoop\",\"\")"
   ]
  },
  {
   "cell_type": "code",
   "execution_count": null,
   "metadata": {},
   "outputs": [],
   "source": [
    "show_tables <- dbGetQuery(conn, \"show tables\")"
   ]
  },
  {
   "cell_type": "code",
   "execution_count": null,
   "metadata": {},
   "outputs": [],
   "source": [
    "show_tables"
   ]
  },
  {
   "cell_type": "code",
   "execution_count": null,
   "metadata": {},
   "outputs": [],
   "source": [
    "fetch <- dbGetQuery(conn,\"select cast(name as varchar) name, cast(age as integer) age, cast(gpa as double) gpa from hive.default.students\")"
   ]
  },
  {
   "cell_type": "code",
   "execution_count": null,
   "metadata": {},
   "outputs": [],
   "source": [
    "fetch"
   ]
  }
 ],
 "metadata": {
  "kernelspec": {
   "display_name": "R",
   "language": "R",
   "name": "ir"
  },
  "language_info": {
   "codemirror_mode": "r",
   "file_extension": ".r",
   "mimetype": "text/x-r-source",
   "name": "R",
   "pygments_lexer": "r",
   "version": "3.6.1"
  }
 },
 "nbformat": 4,
 "nbformat_minor": 4
}
