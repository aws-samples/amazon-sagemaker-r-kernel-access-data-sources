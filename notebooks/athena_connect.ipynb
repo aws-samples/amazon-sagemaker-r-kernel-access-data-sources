{
 "cells": [
  {
   "cell_type": "markdown",
   "metadata": {},
   "source": [
    "### The Lifecycle Configuration Script downloads the jar file to the jdbc directory under home directory (~)"
   ]
  },
  {
   "cell_type": "code",
   "execution_count": null,
   "metadata": {},
   "outputs": [],
   "source": [
    "jar_dir <- \"~/SageMaker/jdbc\"\n",
    "jar_file <- list.files(jar_dir, pattern = \"Athena\")\n",
    "jar_dir_file <- file.path(jar_dir,jar_file)\n",
    "libjvm_path <- system(\"find /usr/lib/jvm/ -name libjvm.so\", intern=TRUE)\n",
    "libjvm_path\n",
    "dyn.load(libjvm_path)\n",
    "\n",
    "options( java.parameters = \"-Xmx8g\" )"
   ]
  },
  {
   "cell_type": "markdown",
   "metadata": {},
   "source": [
    "### Replace the s3_bucket with the value of *SageMakerRS3BucketName* in the CloudFormation Outputs\n",
    "\n",
    "* For example:-\n",
    " * *s3_bucket <- \"blog-sagemaker-r-sagemakerrdatabucket-xxxxxxxxxxxxx\"*"
   ]
  },
  {
   "cell_type": "code",
   "execution_count": null,
   "metadata": {},
   "outputs": [],
   "source": [
    "s3_bucket <- \"<value of SageMakerRS3BucketName in the CloudFormation Outputs>\""
   ]
  },
  {
   "cell_type": "code",
   "execution_count": null,
   "metadata": {},
   "outputs": [],
   "source": [
    "session_token <- system(\"curl -X PUT 'http://169.254.169.254/latest/api/token' -H 'X-aws-ec2-metadata-token-ttl-seconds: 21600'\",intern=TRUE)\n",
    "session_token\n",
    "region_lookup_cmd <- paste( \"curl -H \\\"X-aws-ec2-metadata-token: \", session_token, \"\\\"  -s http://169.254.169.254/latest/dynamic/instance-identity/document | jq .region -r\")\n",
    "region <-  system(region_lookup_cmd,intern=TRUE)\n",
    "jdbc_string <- paste(\"jdbc:awsathena://AwsRegion=\",region,\";S3OutputLocation=s3://\",s3_bucket,\"/;AwsCredentialsProviderClass=com.simba.athena.amazonaws.auth.DefaultAWSCredentialsProviderChain\",sep=\"\")\n",
    "jdbc_string\n"
   ]
  },
  {
   "cell_type": "code",
   "execution_count": null,
   "metadata": {},
   "outputs": [],
   "source": [
    "library(DBI)\n",
    "library(rJava)\n",
    "library(RJDBC)\n",
    "options( java.parameters = \"-Xmx8g\" )\n",
    "drv <- JDBC(\"com.simba.athena.jdbc.Driver\",jar_dir_file,identifier.quote=\"`\")\n",
    "conn <- dbConnect(drv, jdbc_string)\n",
    "conn"
   ]
  },
  {
   "cell_type": "code",
   "execution_count": null,
   "metadata": {},
   "outputs": [],
   "source": [
    "show_databases <- dbGetQuery(conn, \"show databases\")\n",
    "show_databases"
   ]
  },
  {
   "cell_type": "code",
   "execution_count": null,
   "metadata": {},
   "outputs": [],
   "source": [
    "dbListObjects(conn)"
   ]
  },
  {
   "cell_type": "markdown",
   "metadata": {},
   "source": [
    "### Modify or replace with valid date ranges in the SELECT query"
   ]
  },
  {
   "cell_type": "code",
   "execution_count": null,
   "metadata": {},
   "outputs": [],
   "source": [
    "fetch <- dbGetQuery(conn,\"SELECT os, COUNT(*) count FROM mydatabase.cloudfront_logs WHERE date BETWEEN date '2014-07-05' AND date '2014-08-05' GROUP BY os;\")"
   ]
  },
  {
   "cell_type": "code",
   "execution_count": null,
   "metadata": {},
   "outputs": [],
   "source": [
    "fetch"
   ]
  }
 ],
 "metadata": {
  "kernelspec": {
   "display_name": "R",
   "language": "R",
   "name": "ir"
  },
  "language_info": {
   "codemirror_mode": "r",
   "file_extension": ".r",
   "mimetype": "text/x-r-source",
   "name": "R",
   "pygments_lexer": "r",
   "version": "4.2.2"
  }
 },
 "nbformat": 4,
 "nbformat_minor": 5
}
